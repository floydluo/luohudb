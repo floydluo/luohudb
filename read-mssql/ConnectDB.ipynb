{
 "cells": [
  {
   "cell_type": "code",
   "execution_count": 1,
   "metadata": {
    "collapsed": true
   },
   "outputs": [],
   "source": [
    "import pymssql\n",
    "import json\n",
    "import pandas as pd\n",
    "\n",
    "server = '127.0.0.1'\n",
    "user = 'SA'\n",
    "password = 'freud211@cct'\n",
    "#"
   ]
  },
  {
   "cell_type": "code",
   "execution_count": null,
   "metadata": {
    "collapsed": true
   },
   "outputs": [],
   "source": [
    "conn = pymssql.connect(server, user, password, \"cctdb\", port = 1401)"
   ]
  },
  {
   "cell_type": "code",
   "execution_count": 15,
   "metadata": {},
   "outputs": [
    {
     "data": {
      "text/html": [
       "<div>\n",
       "<style scoped>\n",
       "    .dataframe tbody tr th:only-of-type {\n",
       "        vertical-align: middle;\n",
       "    }\n",
       "\n",
       "    .dataframe tbody tr th {\n",
       "        vertical-align: top;\n",
       "    }\n",
       "\n",
       "    .dataframe thead th {\n",
       "        text-align: right;\n",
       "    }\n",
       "</style>\n",
       "<table border=\"1\" class=\"dataframe\">\n",
       "  <thead>\n",
       "    <tr style=\"text-align: right;\">\n",
       "      <th></th>\n",
       "      <th>Id</th>\n",
       "      <th>RecipeID</th>\n",
       "      <th>PatientID</th>\n",
       "      <th>JobNumber</th>\n",
       "      <th>RegiNumber</th>\n",
       "      <th>JobOrgan_Id</th>\n",
       "      <th>DataType</th>\n",
       "      <th>Data</th>\n",
       "    </tr>\n",
       "  </thead>\n",
       "  <tbody>\n",
       "    <tr>\n",
       "      <th>0</th>\n",
       "      <td>6702</td>\n",
       "      <td>281</td>\n",
       "      <td>31571</td>\n",
       "      <td>3168507</td>\n",
       "      <td>0000130256</td>\n",
       "      <td>1</td>\n",
       "      <td>5</td>\n",
       "      <td>&lt;EPRdata&gt;&lt;RANinfo&gt;&lt;A1&gt;入院记录&lt;/A1&gt;&lt;A2&gt;入院记录&lt;/A2&gt;&lt;B...</td>\n",
       "    </tr>\n",
       "    <tr>\n",
       "      <th>1</th>\n",
       "      <td>6716</td>\n",
       "      <td>475</td>\n",
       "      <td>31571</td>\n",
       "      <td>1653681</td>\n",
       "      <td>0000130256</td>\n",
       "      <td>1</td>\n",
       "      <td>5</td>\n",
       "      <td>&lt;EPRdata&gt;&lt;RANinfo&gt;&lt;A1&gt;入院记录&lt;/A1&gt;&lt;A2&gt;入院记录&lt;/A2&gt;&lt;B...</td>\n",
       "    </tr>\n",
       "    <tr>\n",
       "      <th>2</th>\n",
       "      <td>11584</td>\n",
       "      <td>2088</td>\n",
       "      <td>26309</td>\n",
       "      <td>3789068</td>\n",
       "      <td>0000945512</td>\n",
       "      <td>1</td>\n",
       "      <td>7</td>\n",
       "      <td>&lt;Request&gt;&lt;HisID/&gt;&lt;Name/&gt;&lt;Sex&gt;女&lt;/Sex&gt;&lt;Age&gt;49岁&lt;/...</td>\n",
       "    </tr>\n",
       "    <tr>\n",
       "      <th>3</th>\n",
       "      <td>6707</td>\n",
       "      <td>395</td>\n",
       "      <td>31571</td>\n",
       "      <td>2115881</td>\n",
       "      <td>0000130256</td>\n",
       "      <td>1</td>\n",
       "      <td>3</td>\n",
       "      <td>&lt;Request&gt;&lt;HisID/&gt;&lt;Name/&gt;&lt;Sex&gt;男&lt;/Sex&gt;&lt;Age&gt;82岁&lt;/...</td>\n",
       "    </tr>\n",
       "    <tr>\n",
       "      <th>4</th>\n",
       "      <td>6718</td>\n",
       "      <td>629</td>\n",
       "      <td>31571</td>\n",
       "      <td>764829</td>\n",
       "      <td>0000130256</td>\n",
       "      <td>1</td>\n",
       "      <td>3</td>\n",
       "      <td>&lt;Request&gt;&lt;HisID/&gt;&lt;Name/&gt;&lt;Sex&gt;男&lt;/Sex&gt;&lt;Age&gt;82岁&lt;/...</td>\n",
       "    </tr>\n",
       "  </tbody>\n",
       "</table>\n",
       "</div>"
      ],
      "text/plain": [
       "      Id  RecipeID  PatientID JobNumber  RegiNumber  JobOrgan_Id  DataType  \\\n",
       "0   6702       281      31571   3168507  0000130256            1         5   \n",
       "1   6716       475      31571   1653681  0000130256            1         5   \n",
       "2  11584      2088      26309   3789068  0000945512            1         7   \n",
       "3   6707       395      31571   2115881  0000130256            1         3   \n",
       "4   6718       629      31571    764829  0000130256            1         3   \n",
       "\n",
       "                                                Data  \n",
       "0  <EPRdata><RANinfo><A1>入院记录</A1><A2>入院记录</A2><B...  \n",
       "1  <EPRdata><RANinfo><A1>入院记录</A1><A2>入院记录</A2><B...  \n",
       "2  <Request><HisID/><Name/><Sex>女</Sex><Age>49岁</...  \n",
       "3  <Request><HisID/><Name/><Sex>男</Sex><Age>82岁</...  \n",
       "4  <Request><HisID/><Name/><Sex>男</Sex><Age>82岁</...  "
      ]
     },
     "execution_count": 15,
     "metadata": {},
     "output_type": "execute_result"
    }
   ],
   "source": [
    "df = pd.read_sql('select * from xml_table', conn)\n",
    "df.to_json('data/xml_table.json', orient = 'split')\n",
    "df.head()"
   ]
  }
 ],
 "metadata": {
  "kernelspec": {
   "display_name": "CCTDB",
   "language": "python",
   "name": "cctdb"
  },
  "language_info": {
   "codemirror_mode": {
    "name": "ipython",
    "version": 2
   },
   "file_extension": ".py",
   "mimetype": "text/x-python",
   "name": "python",
   "nbconvert_exporter": "python",
   "pygments_lexer": "ipython2",
   "version": "2.7.14"
  }
 },
 "nbformat": 4,
 "nbformat_minor": 2
}
