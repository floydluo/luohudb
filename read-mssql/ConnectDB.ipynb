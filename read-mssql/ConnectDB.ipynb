{
 "cells": [
  {
   "cell_type": "code",
   "execution_count": 1,
   "metadata": {},
   "outputs": [],
   "source": [
    "import pymssql\n",
    "import json\n",
    "import pandas as pd\n",
    "\n",
    "server = '0.0.0.0'\n",
    "port = 1433\n",
    "user = 'SA'\n",
    "password = 'SRIBD@luohucct0'\n",
    "\n",
    "dbname = 'medicine'"
   ]
  },
  {
   "cell_type": "code",
   "execution_count": 2,
   "metadata": {},
   "outputs": [],
   "source": [
    "conn = pymssql.connect(server, user, password, dbname, port = 1433)"
   ]
  },
  {
   "cell_type": "code",
   "execution_count": 3,
   "metadata": {},
   "outputs": [
    {
     "data": {
      "text/html": [
       "<div>\n",
       "<style scoped>\n",
       "    .dataframe tbody tr th:only-of-type {\n",
       "        vertical-align: middle;\n",
       "    }\n",
       "\n",
       "    .dataframe tbody tr th {\n",
       "        vertical-align: top;\n",
       "    }\n",
       "\n",
       "    .dataframe thead th {\n",
       "        text-align: right;\n",
       "    }\n",
       "</style>\n",
       "<table border=\"1\" class=\"dataframe\">\n",
       "  <thead>\n",
       "    <tr style=\"text-align: right;\">\n",
       "      <th></th>\n",
       "      <th>name</th>\n",
       "    </tr>\n",
       "  </thead>\n",
       "  <tbody>\n",
       "    <tr>\n",
       "      <th>0</th>\n",
       "      <td>MD00000001</td>\n",
       "    </tr>\n",
       "    <tr>\n",
       "      <th>1</th>\n",
       "      <td>T_MediPatientInfo_new</td>\n",
       "    </tr>\n",
       "    <tr>\n",
       "      <th>2</th>\n",
       "      <td>xml_table</td>\n",
       "    </tr>\n",
       "  </tbody>\n",
       "</table>\n",
       "</div>"
      ],
      "text/plain": [
       "                    name\n",
       "0             MD00000001\n",
       "1  T_MediPatientInfo_new\n",
       "2              xml_table"
      ]
     },
     "execution_count": 3,
     "metadata": {},
     "output_type": "execute_result"
    }
   ],
   "source": [
    "pd.read_sql('select name from sys.Tables', conn)"
   ]
  },
  {
   "cell_type": "code",
   "execution_count": 4,
   "metadata": {},
   "outputs": [
    {
     "data": {
      "text/html": [
       "<div>\n",
       "<style scoped>\n",
       "    .dataframe tbody tr th:only-of-type {\n",
       "        vertical-align: middle;\n",
       "    }\n",
       "\n",
       "    .dataframe tbody tr th {\n",
       "        vertical-align: top;\n",
       "    }\n",
       "\n",
       "    .dataframe thead th {\n",
       "        text-align: right;\n",
       "    }\n",
       "</style>\n",
       "<table border=\"1\" class=\"dataframe\">\n",
       "  <thead>\n",
       "    <tr style=\"text-align: right;\">\n",
       "      <th></th>\n",
       "      <th>Id</th>\n",
       "      <th>RecipeID</th>\n",
       "      <th>PatientID</th>\n",
       "      <th>JobNumber</th>\n",
       "      <th>RegiNumber</th>\n",
       "      <th>JobOrgan_Id</th>\n",
       "      <th>DataType</th>\n",
       "      <th>Data</th>\n",
       "    </tr>\n",
       "  </thead>\n",
       "  <tbody>\n",
       "    <tr>\n",
       "      <th>0</th>\n",
       "      <td>1</td>\n",
       "      <td>150</td>\n",
       "      <td>79600</td>\n",
       "      <td>2900324</td>\n",
       "      <td>0000771205</td>\n",
       "      <td>1</td>\n",
       "      <td>2</td>\n",
       "      <td>&lt;Request&gt;&lt;Sex&gt;男&lt;/Sex&gt;&lt;Age&gt;21岁&lt;/Age&gt;&lt;InAdmDate&gt;...</td>\n",
       "    </tr>\n",
       "    <tr>\n",
       "      <th>1</th>\n",
       "      <td>2</td>\n",
       "      <td>150</td>\n",
       "      <td>79600</td>\n",
       "      <td>2900324</td>\n",
       "      <td>0000771205</td>\n",
       "      <td>1</td>\n",
       "      <td>3</td>\n",
       "      <td>&lt;Request&gt;&lt;HisID/&gt;&lt;Sex&gt;男&lt;/Sex&gt;&lt;Age&gt;21岁&lt;/Age&gt;&lt;In...</td>\n",
       "    </tr>\n",
       "    <tr>\n",
       "      <th>2</th>\n",
       "      <td>4</td>\n",
       "      <td>624</td>\n",
       "      <td>74516</td>\n",
       "      <td>4310343</td>\n",
       "      <td>0000150051</td>\n",
       "      <td>1</td>\n",
       "      <td>2</td>\n",
       "      <td>&lt;Request&gt;&lt;Sex&gt;男&lt;/Sex&gt;&lt;Age&gt;74岁&lt;/Age&gt;&lt;InAdmDate&gt;...</td>\n",
       "    </tr>\n",
       "    <tr>\n",
       "      <th>3</th>\n",
       "      <td>5</td>\n",
       "      <td>624</td>\n",
       "      <td>74516</td>\n",
       "      <td>4310343</td>\n",
       "      <td>0000150051</td>\n",
       "      <td>1</td>\n",
       "      <td>3</td>\n",
       "      <td>&lt;Request&gt;&lt;HisID/&gt;&lt;Sex&gt;男&lt;/Sex&gt;&lt;Age&gt;74岁&lt;/Age&gt;&lt;In...</td>\n",
       "    </tr>\n",
       "    <tr>\n",
       "      <th>4</th>\n",
       "      <td>6</td>\n",
       "      <td>624</td>\n",
       "      <td>74516</td>\n",
       "      <td>4310343</td>\n",
       "      <td>0000150051</td>\n",
       "      <td>1</td>\n",
       "      <td>4</td>\n",
       "      <td>&lt;Request&gt;&lt;TempItemInfo&gt;&lt;TempItemInfo&gt;&lt;OEORDRow...</td>\n",
       "    </tr>\n",
       "  </tbody>\n",
       "</table>\n",
       "</div>"
      ],
      "text/plain": [
       "   Id  RecipeID  PatientID JobNumber  RegiNumber  JobOrgan_Id  DataType  \\\n",
       "0   1       150      79600   2900324  0000771205            1         2   \n",
       "1   2       150      79600   2900324  0000771205            1         3   \n",
       "2   4       624      74516   4310343  0000150051            1         2   \n",
       "3   5       624      74516   4310343  0000150051            1         3   \n",
       "4   6       624      74516   4310343  0000150051            1         4   \n",
       "\n",
       "                                                Data  \n",
       "0  <Request><Sex>男</Sex><Age>21岁</Age><InAdmDate>...  \n",
       "1  <Request><HisID/><Sex>男</Sex><Age>21岁</Age><In...  \n",
       "2  <Request><Sex>男</Sex><Age>74岁</Age><InAdmDate>...  \n",
       "3  <Request><HisID/><Sex>男</Sex><Age>74岁</Age><In...  \n",
       "4  <Request><TempItemInfo><TempItemInfo><OEORDRow...  "
      ]
     },
     "execution_count": 4,
     "metadata": {},
     "output_type": "execute_result"
    }
   ],
   "source": [
    "df = pd.read_sql('select * from xml_table', conn)\n",
    "#df.to_json('data/xml_table.json', orient = 'split')\n",
    "df.head()"
   ]
  },
  {
   "cell_type": "code",
   "execution_count": 7,
   "metadata": {},
   "outputs": [],
   "source": [
    "root = '/home/floyd/Desktop/luohudb/'\n",
    "\n",
    "df.to_pickle(root + 'data/' + 'xml.p')"
   ]
  },
  {
   "cell_type": "code",
   "execution_count": null,
   "metadata": {},
   "outputs": [],
   "source": []
  }
 ],
 "metadata": {
  "kernelspec": {
   "display_name": "CCTDB",
   "language": "python",
   "name": "cctdb"
  },
  "language_info": {
   "codemirror_mode": {
    "name": "ipython",
    "version": 2
   },
   "file_extension": ".py",
   "mimetype": "text/x-python",
   "name": "python",
   "nbconvert_exporter": "python",
   "pygments_lexer": "ipython2",
   "version": "2.7.15"
  }
 },
 "nbformat": 4,
 "nbformat_minor": 2
}
